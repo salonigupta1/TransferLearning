{
  "nbformat": 4,
  "nbformat_minor": 0,
  "metadata": {
    "colab": {
      "name": "ClassificationUsingTensorflow.ipynb",
      "provenance": [],
      "authorship_tag": "ABX9TyPH1vWydwfag02dNR/kdDT/",
      "include_colab_link": true
    },
    "kernelspec": {
      "name": "python3",
      "display_name": "Python 3"
    },
    "language_info": {
      "name": "python"
    }
  },
  "cells": [
    {
      "cell_type": "markdown",
      "metadata": {
        "id": "view-in-github",
        "colab_type": "text"
      },
      "source": [
        "<a href=\"https://colab.research.google.com/github/salonigupta1/TransferLearning/blob/main/ClassificationUsingTensorflow.ipynb\" target=\"_parent\"><img src=\"https://colab.research.google.com/assets/colab-badge.svg\" alt=\"Open In Colab\"/></a>"
      ]
    },
    {
      "cell_type": "code",
      "execution_count": 1,
      "metadata": {
        "id": "DtAdzOKbpeZ9"
      },
      "outputs": [],
      "source": [
        "import tensorflow as tf\n",
        "from tensorflow.keras import datasets, layers, models\n",
        "import matplotlib.pyplot as plt\n",
        "import numpy as np"
      ]
    },
    {
      "cell_type": "code",
      "source": [
        "(X_train, y_train), (X_test, y_test) = datasets.cifar10.load_data()"
      ],
      "metadata": {
        "colab": {
          "base_uri": "https://localhost:8080/"
        },
        "id": "zoVrpYinprS2",
        "outputId": "970c9868-6c02-4d9b-baf2-53d5d30bc14a"
      },
      "execution_count": 2,
      "outputs": [
        {
          "output_type": "stream",
          "name": "stdout",
          "text": [
            "Downloading data from https://www.cs.toronto.edu/~kriz/cifar-10-python.tar.gz\n",
            "170500096/170498071 [==============================] - 6s 0us/step\n",
            "170508288/170498071 [==============================] - 6s 0us/step\n"
          ]
        }
      ]
    },
    {
      "cell_type": "code",
      "source": [
        "X_train.shape"
      ],
      "metadata": {
        "colab": {
          "base_uri": "https://localhost:8080/"
        },
        "id": "kv7DzzVrp1jK",
        "outputId": "2adb508c-080e-4ae8-9065-e2da4439ff8c"
      },
      "execution_count": 3,
      "outputs": [
        {
          "output_type": "execute_result",
          "data": {
            "text/plain": [
              "(50000, 32, 32, 3)"
            ]
          },
          "metadata": {},
          "execution_count": 3
        }
      ]
    },
    {
      "cell_type": "code",
      "source": [
        "plt.imshow(X_train[0])"
      ],
      "metadata": {
        "colab": {
          "base_uri": "https://localhost:8080/",
          "height": 283
        },
        "id": "6JloWZUgry6I",
        "outputId": "a2fea390-4c48-47f1-97bd-0b65f115c462"
      },
      "execution_count": 4,
      "outputs": [
        {
          "output_type": "execute_result",
          "data": {
            "text/plain": [
              "<matplotlib.image.AxesImage at 0x7fdec04fa310>"
            ]
          },
          "metadata": {},
          "execution_count": 4
        },
        {
          "output_type": "display_data",
          "data": {
            "image/png": "[encoded data removed]",
            "text/plain": [
              "<Figure size 432x288 with 1 Axes>"
            ]
          },
          "metadata": {
            "needs_background": "light"
          }
        }
      ]
    },
    {
      "cell_type": "code",
      "source": [
        "plt.imshow(X_train[1])"
      ],
      "metadata": {
        "colab": {
          "base_uri": "https://localhost:8080/",
          "height": 283
        },
        "id": "utDNloyUr358",
        "outputId": "4738124c-bb54-485c-c61d-febbdd7ce98c"
      },
      "execution_count": 5,
      "outputs": [
        {
          "output_type": "execute_result",
          "data": {
            "text/plain": [
              "<matplotlib.image.AxesImage at 0x7fdebffe3550>"
            ]
          },
          "metadata": {},
          "execution_count": 5
        },
        {
          "output_type": "display_data",
          "data": {
            "image/png": "[encoded data removed]",
            "text/plain": [
              "<Figure size 432x288 with 1 Axes>"
            ]
          },
          "metadata": {
            "needs_background": "light"
          }
        }
      ]
    },
    {
      "cell_type": "code",
      "source": [
        "y_train = y_train.reshape(-1,)"
      ],
      "metadata": {
        "id": "IlsawRk2sivH"
      },
      "execution_count": 6,
      "outputs": []
    },
    {
      "cell_type": "code",
      "source": [
        "def plot_sample(X, y, index):\n",
        "  plt.figure(figsize = (15, 2))\n",
        "  plt.imshow(X[index])\n",
        "  plt.xlabel(classes[y_train[index]])"
      ],
      "metadata": {
        "id": "OcerPhdFsQQ7"
      },
      "execution_count": 7,
      "outputs": []
    },
    {
      "cell_type": "code",
      "source": [
        "classes = ['airplane', 'automobile', 'bird', 'cat', 'deer', 'dog', 'frog', 'horse', 'ship', 'truck']"
      ],
      "metadata": {
        "id": "SOpa54gmtJHO"
      },
      "execution_count": 8,
      "outputs": []
    },
    {
      "cell_type": "code",
      "source": [
        "plot_sample(X_train, y_train, 0)"
      ],
      "metadata": {
        "colab": {
          "base_uri": "https://localhost:8080/",
          "height": 173
        },
        "id": "MbJlcMrysbJB",
        "outputId": "a8c9002e-88c5-49ef-a67d-30814c418d1b"
      },
      "execution_count": 9,
      "outputs": [
        {
          "output_type": "display_data",
          "data": {
            "image/png": "[encoded data removed]",
            "text/plain": [
              "<Figure size 1080x144 with 1 Axes>"
            ]
          },
          "metadata": {
            "needs_background": "light"
          }
        }
      ]
    },
    {
      "cell_type": "code",
      "source": [
        "plot_sample(X_train, y_train, 1)"
      ],
      "metadata": {
        "colab": {
          "base_uri": "https://localhost:8080/",
          "height": 173
        },
        "id": "p3baYNMdtFM2",
        "outputId": "f2455560-ed6f-4889-f846-2384e3051472"
      },
      "execution_count": 10,
      "outputs": [
        {
          "output_type": "display_data",
          "data": {
            "image/png": "[encoded data removed]",
            "text/plain": [
              "<Figure size 1080x144 with 1 Axes>"
            ]
          },
          "metadata": {
            "needs_background": "light"
          }
        }
      ]
    },
    {
      "cell_type": "code",
      "source": [
        "X_train = X_train/255\n",
        "X_test = X_test/255"
      ],
      "metadata": {
        "id": "3kDGyBW5ta5p"
      },
      "execution_count": 11,
      "outputs": []
    },
    {
      "cell_type": "code",
      "source": [
        "ann = models.Sequential([\n",
        "        layers.Flatten(input_shape=(32, 32, 3)),\n",
        "        layers.Dense(3000, activation='relu'),\n",
        "        layers.Dense(1000, activation='relu'),\n",
        "        layers.Dense(10, activation='sigmoid')\n",
        "])\n",
        "\n",
        "ann.compile(optimizer='SGD', loss = 'sparse_categorical_crossentropy', metrics=['accuracy'])\n",
        "ann.fit(X_train, y_train, epochs=5)"
      ],
      "metadata": {
        "colab": {
          "base_uri": "https://localhost:8080/"
        },
        "id": "TqRIRvfrtgrL",
        "outputId": "49e85b63-9235-46fb-8a73-b44378ad15c5"
      },
      "execution_count": 12,
      "outputs": [
        {
          "output_type": "stream",
          "name": "stdout",
          "text": [
            "Epoch 1/5\n",
            "1563/1563 [==============================] - 65s 41ms/step - loss: 1.8097 - accuracy: 0.3550\n",
            "Epoch 2/5\n",
            "1563/1563 [==============================] - 65s 41ms/step - loss: 1.6217 - accuracy: 0.4280\n",
            "Epoch 3/5\n",
            "1563/1563 [==============================] - 65s 41ms/step - loss: 1.5414 - accuracy: 0.4581\n",
            "Epoch 4/5\n",
            "1563/1563 [==============================] - 67s 43ms/step - loss: 1.4838 - accuracy: 0.4778\n",
            "Epoch 5/5\n",
            "1563/1563 [==============================] - 66s 42ms/step - loss: 1.4331 - accuracy: 0.4968\n"
          ]
        },
        {
          "output_type": "execute_result",
          "data": {
            "text/plain": [
              "<keras.callbacks.History at 0x7fdebbdb1f10>"
            ]
          },
          "metadata": {},
          "execution_count": 12
        }
      ]
    },
    {
      "cell_type": "code",
      "source": [
        "from sklearn.metrics import confusion_matrix, classification_report\n",
        "import numpy as np\n",
        "y_pred = ann.predict(X_test)\n",
        "y_pred_classes = [np.argmax(element) for element in y_pred]\n",
        "\n",
        "print(\"Classification Report: \\n\", classification_report(y_test, y_pred_classes))"
      ],
      "metadata": {
        "colab": {
          "base_uri": "https://localhost:8080/"
        },
        "id": "MfRB-OOguHpN",
        "outputId": "51dcba86-24aa-4429-d368-eba83864832f"
      },
      "execution_count": 13,
      "outputs": [
        {
          "output_type": "stream",
          "name": "stdout",
          "text": [
            "Classification Report: \n",
            "               precision    recall  f1-score   support\n",
            "\n",
            "           0       0.58      0.57      0.57      1000\n",
            "           1       0.56      0.69      0.62      1000\n",
            "           2       0.40      0.32      0.35      1000\n",
            "           3       0.34      0.29      0.31      1000\n",
            "           4       0.56      0.25      0.34      1000\n",
            "           5       0.40      0.40      0.40      1000\n",
            "           6       0.33      0.84      0.47      1000\n",
            "           7       0.65      0.45      0.53      1000\n",
            "           8       0.75      0.47      0.58      1000\n",
            "           9       0.60      0.47      0.53      1000\n",
            "\n",
            "    accuracy                           0.47     10000\n",
            "   macro avg       0.52      0.47      0.47     10000\n",
            "weighted avg       0.52      0.47      0.47     10000\n",
            "\n"
          ]
        }
      ]
    },
    {
      "cell_type": "code",
      "source": [
        "cnn = models.Sequential([\n",
        "        layers.Conv2D(filters=32, kernel_size=(3,3), activation='relu', input_shape=(32,32,3)),\n",
        "        layers.MaxPooling2D((2,2)),\n",
        "\n",
        "        layers.Conv2D(filters=64, kernel_size=(3,3), activation='relu'),\n",
        "        layers.MaxPooling2D((2,2)),\n",
        "\n",
        "        layers.Flatten(),\n",
        "        layers.Dense(64, activation='relu'),\n",
        "        layers.Dense(10, activation='softmax')\n",
        "])"
      ],
      "metadata": {
        "id": "YjLuBxe-xX03"
      },
      "execution_count": 14,
      "outputs": []
    },
    {
      "cell_type": "code",
      "source": [
        "cnn.compile(optimizer='adam', loss = 'sparse_categorical_crossentropy', metrics=['accuracy'])"
      ],
      "metadata": {
        "id": "3JprMSv7yB1U"
      },
      "execution_count": 15,
      "outputs": []
    },
    {
      "cell_type": "code",
      "source": [
        "cnn.fit(X_train, y_train, epochs=10)"
      ],
      "metadata": {
        "colab": {
          "base_uri": "https://localhost:8080/"
        },
        "id": "CyRYbsbl09Es",
        "outputId": "dae93a5a-8316-4a7a-e26f-c4ed4f614002"
      },
      "execution_count": 16,
      "outputs": [
        {
          "output_type": "stream",
          "name": "stdout",
          "text": [
            "Epoch 1/10\n",
            "1563/1563 [==============================] - 48s 31ms/step - loss: 1.4839 - accuracy: 0.4619\n",
            "Epoch 2/10\n",
            "1563/1563 [==============================] - 47s 30ms/step - loss: 1.1278 - accuracy: 0.6053\n",
            "Epoch 3/10\n",
            "1563/1563 [==============================] - 48s 31ms/step - loss: 0.9942 - accuracy: 0.6543\n",
            "Epoch 4/10\n",
            "1563/1563 [==============================] - 51s 32ms/step - loss: 0.9196 - accuracy: 0.6830\n",
            "Epoch 5/10\n",
            "1563/1563 [==============================] - 47s 30ms/step - loss: 0.8539 - accuracy: 0.7044\n",
            "Epoch 6/10\n",
            "1563/1563 [==============================] - 48s 31ms/step - loss: 0.8030 - accuracy: 0.7206\n",
            "Epoch 7/10\n",
            "1563/1563 [==============================] - 47s 30ms/step - loss: 0.7519 - accuracy: 0.7407\n",
            "Epoch 8/10\n",
            "1563/1563 [==============================] - 46s 29ms/step - loss: 0.7126 - accuracy: 0.7553\n",
            "Epoch 9/10\n",
            "1563/1563 [==============================] - 46s 29ms/step - loss: 0.6752 - accuracy: 0.7644\n",
            "Epoch 10/10\n",
            "1563/1563 [==============================] - 47s 30ms/step - loss: 0.6384 - accuracy: 0.7790\n"
          ]
        },
        {
          "output_type": "execute_result",
          "data": {
            "text/plain": [
              "<keras.callbacks.History at 0x7fdeb7688050>"
            ]
          },
          "metadata": {},
          "execution_count": 16
        }
      ]
    },
    {
      "cell_type": "code",
      "source": [
        "cnn.evaluate(X_test, y_test)"
      ],
      "metadata": {
        "colab": {
          "base_uri": "https://localhost:8080/"
        },
        "id": "aoHXP8261BQh",
        "outputId": "700656e4-2b3c-4d85-9055-5e0a0acfcdae"
      },
      "execution_count": 17,
      "outputs": [
        {
          "output_type": "stream",
          "name": "stdout",
          "text": [
            "313/313 [==============================] - 4s 11ms/step - loss: 0.9381 - accuracy: 0.6928\n"
          ]
        },
        {
          "output_type": "execute_result",
          "data": {
            "text/plain": [
              "[0.9381111264228821, 0.692799985408783]"
            ]
          },
          "metadata": {},
          "execution_count": 17
        }
      ]
    },
    {
      "cell_type": "code",
      "source": [
        "y_test = y_test.reshape(-1,)\n",
        "plot_sample(X_test, y_test, 1)"
      ],
      "metadata": {
        "colab": {
          "base_uri": "https://localhost:8080/",
          "height": 173
        },
        "id": "s0H-7Pwj1Kcb",
        "outputId": "df39bb5a-d18f-444d-9d6f-98ffe723c609"
      },
      "execution_count": 18,
      "outputs": [
        {
          "output_type": "display_data",
          "data": {
            "image/png": "[encoded data removed]",
            "text/plain": [
              "<Figure size 1080x144 with 1 Axes>"
            ]
          },
          "metadata": {
            "needs_background": "light"
          }
        }
      ]
    },
    {
      "cell_type": "code",
      "source": [
        "y_pred = cnn.predict(X_test)\n",
        "y_pred[:5]"
      ],
      "metadata": {
        "colab": {
          "base_uri": "https://localhost:8080/"
        },
        "id": "kZGiSSDM1U9D",
        "outputId": "5edcec60-d805-4184-e406-a44d25513c35"
      },
      "execution_count": 22,
      "outputs": [
        {
          "output_type": "execute_result",
          "data": {
            "text/plain": [
              "array([[1.0350205e-03, 9.9812227e-04, 1.1796277e-03, 5.2612150e-01,\n",
              "        4.1965165e-04, 3.9214042e-01, 1.2288321e-02, 2.4094385e-04,\n",
              "        6.0236368e-02, 5.3399811e-03],\n",
              "       [1.7904644e-04, 7.6244017e-03, 1.0787304e-08, 5.9578332e-07,\n",
              "        2.5311818e-08, 6.0980891e-09, 1.0244788e-07, 1.1644207e-08,\n",
              "        9.9183428e-01, 3.6152583e-04],\n",
              "       [6.0389705e-02, 2.1553999e-01, 1.7712513e-03, 7.1326904e-03,\n",
              "        6.2678955e-03, 5.7909155e-04, 5.4669002e-04, 1.3319407e-02,\n",
              "        3.3224547e-01, 3.6220780e-01],\n",
              "       [8.7103391e-01, 1.9350052e-02, 1.1652860e-02, 3.6271641e-03,\n",
              "        3.7304513e-04, 1.5803227e-05, 1.0320056e-02, 1.1990579e-04,\n",
              "        7.9201266e-02, 4.3059308e-03],\n",
              "       [1.7887091e-05, 7.8326644e-05, 5.0124037e-03, 2.4751097e-02,\n",
              "        2.4155442e-01, 6.0528889e-03, 7.0751709e-01, 2.0290818e-05,\n",
              "        1.4988724e-02, 6.8135496e-06]], dtype=float32)"
            ]
          },
          "metadata": {},
          "execution_count": 22
        }
      ]
    },
    {
      "cell_type": "code",
      "source": [
        "y_classes = [np.argmax(ele) for ele in y_pred]\n",
        "y_classes[:5]"
      ],
      "metadata": {
        "id": "MEUxXEkB1dwH",
        "colab": {
          "base_uri": "https://localhost:8080/"
        },
        "outputId": "2c94d41e-83c1-4f57-d742-32640f9fcf5f"
      },
      "execution_count": 23,
      "outputs": [
        {
          "output_type": "execute_result",
          "data": {
            "text/plain": [
              "[3, 8, 9, 0, 6]"
            ]
          },
          "metadata": {},
          "execution_count": 23
        }
      ]
    },
    {
      "cell_type": "code",
      "source": [
        "y_test[:5]"
      ],
      "metadata": {
        "colab": {
          "base_uri": "https://localhost:8080/"
        },
        "id": "G9j8byxln6Pj",
        "outputId": "2c4148e1-d9d7-4e11-c8b3-5280d589306c"
      },
      "execution_count": 25,
      "outputs": [
        {
          "output_type": "execute_result",
          "data": {
            "text/plain": [
              "array([3, 8, 8, 0, 6], dtype=uint8)"
            ]
          },
          "metadata": {},
          "execution_count": 25
        }
      ]
    },
    {
      "cell_type": "code",
      "source": [
        "plot_sample(X_test, y_test, 1)"
      ],
      "metadata": {
        "id": "eEWx61nq1jQv",
        "colab": {
          "base_uri": "https://localhost:8080/",
          "height": 173
        },
        "outputId": "e24e94e8-e163-48d3-dbbe-ac8245cb8b94"
      },
      "execution_count": 24,
      "outputs": [
        {
          "output_type": "display_data",
          "data": {
            "image/png": "[encoded data removed]",
            "text/plain": [
              "<Figure size 1080x144 with 1 Axes>"
            ]
          },
          "metadata": {
            "needs_background": "light"
          }
        }
      ]
    },
    {
      "cell_type": "code",
      "source": [
        "print('Classification Report: \\n', classification_report(y_test, y_classes))"
      ],
      "metadata": {
        "id": "rX2XGjpm1sbq",
        "colab": {
          "base_uri": "https://localhost:8080/"
        },
        "outputId": "5f1937a1-0820-4ad6-f109-edb20099d417"
      },
      "execution_count": 26,
      "outputs": [
        {
          "output_type": "stream",
          "name": "stdout",
          "text": [
            "Classification Report: \n",
            "               precision    recall  f1-score   support\n",
            "\n",
            "           0       0.73      0.75      0.74      1000\n",
            "           1       0.79      0.83      0.81      1000\n",
            "           2       0.71      0.47      0.56      1000\n",
            "           3       0.53      0.51      0.52      1000\n",
            "           4       0.67      0.59      0.63      1000\n",
            "           5       0.57      0.64      0.60      1000\n",
            "           6       0.75      0.79      0.76      1000\n",
            "           7       0.75      0.73      0.74      1000\n",
            "           8       0.79      0.79      0.79      1000\n",
            "           9       0.66      0.85      0.74      1000\n",
            "\n",
            "    accuracy                           0.69     10000\n",
            "   macro avg       0.69      0.69      0.69     10000\n",
            "weighted avg       0.69      0.69      0.69     10000\n",
            "\n"
          ]
        }
      ]
    }
  ]
}